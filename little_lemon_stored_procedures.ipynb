{
 "cells": [
  {
   "cell_type": "markdown",
   "metadata": {},
   "source": [
    "configure mysql/python connection and prepare the databse for use"
   ]
  },
  {
   "cell_type": "code",
   "execution_count": 1,
   "metadata": {},
   "outputs": [],
   "source": [
    "# import password from config file\n",
    "from config import db_password"
   ]
  },
  {
   "cell_type": "code",
   "execution_count": 2,
   "metadata": {},
   "outputs": [],
   "source": [
    "# import mysql.connector\n",
    "import mysql.connector as connector"
   ]
  },
  {
   "cell_type": "code",
   "execution_count": 5,
   "metadata": {},
   "outputs": [
    {
     "name": "stdout",
     "output_type": "stream",
     "text": [
      "Connection between MySQL and Python is established.\n",
      "\n"
     ]
    }
   ],
   "source": [
    "# connect MySQL with Python\n",
    "connection = connector.connect(user='root', password = db_password)\n",
    "print(\"Connection between MySQL and Python is established.\\n\")"
   ]
  },
  {
   "cell_type": "code",
   "execution_count": 6,
   "metadata": {},
   "outputs": [
    {
     "name": "stdout",
     "output_type": "stream",
     "text": [
      "Cursor is created to communicate with the MySQL using Python.\n",
      "\n"
     ]
    }
   ],
   "source": [
    "# create cursor\n",
    "cursor = connection.cursor()\n",
    "print(\"Cursor is created to communicate with the MySQL using Python.\\n\")"
   ]
  },
  {
   "cell_type": "code",
   "execution_count": 7,
   "metadata": {},
   "outputs": [
    {
     "name": "stdout",
     "output_type": "stream",
     "text": [
      "The database little_lemon is set for use.\n",
      "\n"
     ]
    }
   ],
   "source": [
    "# use the database\n",
    "cursor.execute('USE little_lemon_db;')\n",
    "print(\"The database little_lemon is set for use.\\n\")"
   ]
  },
  {
   "cell_type": "markdown",
   "metadata": {},
   "source": [
    "ESTABLISH POOL CONNECTION "
   ]
  },
  {
   "cell_type": "code",
   "execution_count": 8,
   "metadata": {},
   "outputs": [],
   "source": [
    "# import pool connection and Error from mysql.connector.pooling\n",
    "from mysql.connector.pooling import MySQLConnectionPool\n",
    "from mysql.connector import Error"
   ]
  },
  {
   "cell_type": "code",
   "execution_count": 9,
   "metadata": {},
   "outputs": [
    {
     "name": "stdout",
     "output_type": "stream",
     "text": [
      "The connection pool is created with a name:  pool_a\n",
      "The connection pool size is:  2\n"
     ]
    }
   ],
   "source": [
    "# configure dbconfig\n",
    "dbconfig = {\n",
    "    \"database\": \"little_lemon_db\",\n",
    "    \"user\": \"root\",\n",
    "    \"password\": db_password\n",
    "}\n",
    "\n",
    "try:\n",
    "    pool =MySQLConnectionPool(pool_name='pool_a', pool_size=2, **dbconfig)\n",
    "    print('The connection pool is created with a name: ', pool.pool_name)\n",
    "    print('The connection pool size is: ', pool.pool_size)\n",
    "\n",
    "except Error as er:\n",
    "    print('Error: ', er.errno)\n",
    "    print('Message: ', er.msg)"
   ]
  },
  {
   "cell_type": "code",
   "execution_count": 10,
   "metadata": {},
   "outputs": [
    {
     "name": "stdout",
     "output_type": "stream",
     "text": [
      "\n",
      "Getting connection from a pool ...\n",
      "\n",
      "'Connection1' object is:  <mysql.connector.pooling.PooledMySQLConnection object at 0x105eed040>\n"
     ]
    }
   ],
   "source": [
    "# get connection object from a pool\n",
    "print('\\nGetting connection from a pool ...\\n')\n",
    "connection1 = pool.get_connection()\n",
    "print(\"'Connection1' object is: \", connection1)"
   ]
  },
  {
   "cell_type": "code",
   "execution_count": 11,
   "metadata": {},
   "outputs": [],
   "source": [
    "# create cursor object from a connection\n",
    "cursor = connection1.cursor()"
   ]
  },
  {
   "cell_type": "markdown",
   "metadata": {},
   "source": [
    "CREATE PROCEDURES"
   ]
  },
  {
   "cell_type": "code",
   "execution_count": 12,
   "metadata": {},
   "outputs": [],
   "source": [
    "# CREATE PROCEDURE PeakHours\n",
    "cursor.execute('DROP PROCEDURE IF EXISTS PeakHours;')\n",
    "stored_procedure_peak_hours = ''' CREATE PROCEDURE PeakHours()\n",
    "BEGIN\n",
    "SELECT HOUR(BookingSlot) AS Booking_Hour, COUNT(HOUR(BookingSlot)) AS n_Bookings\n",
    "FROM Bookings\n",
    "GROUP BY HOUR(BookingSlot)\n",
    "ORDER BY n_Bookings DESC;\n",
    "END\n",
    "'''\n"
   ]
  },
  {
   "cell_type": "code",
   "execution_count": 13,
   "metadata": {},
   "outputs": [],
   "source": [
    "# execute the stored procedure\n",
    "cursor.execute(stored_procedure_peak_hours)"
   ]
  },
  {
   "cell_type": "code",
   "execution_count": 14,
   "metadata": {},
   "outputs": [
    {
     "name": "stdout",
     "output_type": "stream",
     "text": [
      "['Booking_Hour', 'n_Bookings']\n",
      "(19, 2)\n",
      "(15, 1)\n",
      "(17, 1)\n",
      "(18, 1)\n",
      "(20, 1)\n"
     ]
    }
   ],
   "source": [
    "# call the stored procedure\n",
    "cursor.callproc('PeakHours')\n",
    "\n",
    "# retrieve records in dataset\n",
    "results = next(cursor.stored_results())\n",
    "dataset = results.fetchall()\n",
    "\n",
    "# retrieve the column names\n",
    "for column_id in cursor.stored_results():\n",
    "    columns = [column[0] for column in column_id.description]\n",
    "\n",
    "# print the column names and dataset\n",
    "print(columns)\n",
    "\n",
    "#print the dataset\n",
    "for row in dataset:\n",
    "    print(row)\n"
   ]
  },
  {
   "cell_type": "markdown",
   "metadata": {},
   "source": [
    "stored procedure GuestStatus"
   ]
  },
  {
   "cell_type": "code",
   "execution_count": 18,
   "metadata": {},
   "outputs": [],
   "source": [
    "# create procedure GuestStatus\n",
    "cursor.execute('DROP PROCEDURE IF EXISTS GuestStatus;')\n",
    "stored_procedure_guest_status = ''' CREATE PROCEDURE GuestStatus()\n",
    "BEGIN \n",
    "SELECT CONCAT(b.GuestFirstName, ' ', b.GuestLastName) AS 'Guest Name', \n",
    "e.Role AS Employee,\n",
    "\n",
    "CASE \n",
    "WHEN e.Role IN ('Manager', 'Assistant Manager') THEN 'Ready to pay'\n",
    "WHEN e.Role = 'Head Chef' THEN 'Ready to serve'\n",
    "WHEN e.Role = 'Assistant Chef' THEN 'Preparing Order' \n",
    "WHEN e.Role = 'Head Waiter' THEN 'Order Served' \n",
    "ELSE 'Pending'\n",
    "END AS Status\n",
    "\n",
    "FROM Bookings AS b\n",
    "LEFT JOIN Employees AS e\n",
    "ON b.EmployeeID = e.EmployeeID;\n",
    "\n",
    "END\n",
    "\n",
    "'''"
   ]
  },
  {
   "cell_type": "code",
   "execution_count": 19,
   "metadata": {},
   "outputs": [],
   "source": [
    "# execute the stored procedure\n",
    "cursor.execute(stored_procedure_guest_status)\n"
   ]
  },
  {
   "cell_type": "code",
   "execution_count": 20,
   "metadata": {},
   "outputs": [
    {
     "name": "stdout",
     "output_type": "stream",
     "text": [
      "['Guest Name', 'Employee', 'Status']\n",
      "('Anna Iversen', 'Manager', 'Ready to pay')\n",
      "('Joakim Iversen', 'Manager', 'Ready to pay')\n",
      "('Vanessa McCarthy', 'Head Chef', 'Ready to serve')\n",
      "('Marcos Romero', 'Assistant Chef', 'Preparing Order')\n",
      "('Hiroki Yamane', 'Assistant Manager', 'Ready to pay')\n",
      "('Diana Pinto', 'Head Waiter', 'Order Served')\n"
     ]
    }
   ],
   "source": [
    "# call the stored procedure\n",
    "cursor.callproc('GuestStatus')\n",
    "\n",
    "# retrieve records in dataset\n",
    "results = next(cursor.stored_results())\n",
    "dataset = results.fetchall()\n",
    "\n",
    "# retrieve the column names\n",
    "for column_id in cursor.stored_results():\n",
    "    columns = [column[0] for column in column_id.description]\n",
    "\n",
    "# print the column names and dataset\n",
    "print(columns)\n",
    "\n",
    "#print the dataset\n",
    "for row in dataset:\n",
    "    print(row)\n",
    "\n",
    "# close connection\n",
    "connection1.close()\n"
   ]
  },
  {
   "cell_type": "markdown",
   "metadata": {},
   "source": [
    "create connection for pool_b"
   ]
  },
  {
   "cell_type": "code",
   "execution_count": 21,
   "metadata": {},
   "outputs": [
    {
     "name": "stdout",
     "output_type": "stream",
     "text": [
      "The connection pool is created with a name:  pool_b\n",
      "The connection pool size is:  2\n"
     ]
    }
   ],
   "source": [
    "# configure connection for pool_b using try-except block\n",
    "try:\n",
    "    pool = MySQLConnectionPool(pool_name='pool_b', pool_size=2, **dbconfig)\n",
    "    print('The connection pool is created with a name: ', pool.pool_name)\n",
    "    print('The connection pool size is: ', pool.pool_size)\n",
    "\n",
    "except Error as er:\n",
    "    print('Error: ', er.errno)\n",
    "    print('Message: ', er.msg)\n"
   ]
  },
  {
   "cell_type": "markdown",
   "metadata": {},
   "source": [
    "ADD connections for three guests and their data"
   ]
  },
  {
   "cell_type": "code",
   "execution_count": 22,
   "metadata": {},
   "outputs": [],
   "source": [
    "# get connection for the first guest from a pool\n",
    "connection1 = pool.get_connection()\n",
    "# create cursor object from a connection for the 1st guest\n",
    "cursor1 = connection1.cursor()\n",
    "\n",
    "# insert data into Bookings table for the guest N1\n",
    "booking1 = ''' INSERT INTO Bookings (TableNo, GuestFirstName, GuestLastName, BookingSlot, EmployeeID)\n",
    "VALUES\n",
    "(8,'Anees','Java','18:00:00',6);'''\n",
    "\n",
    "# execute booking1\n",
    "cursor1.execute(booking1)"
   ]
  },
  {
   "cell_type": "code",
   "execution_count": 23,
   "metadata": {},
   "outputs": [],
   "source": [
    "connection1.commit()"
   ]
  },
  {
   "cell_type": "code",
   "execution_count": 24,
   "metadata": {},
   "outputs": [],
   "source": [
    "# connect 2nd guest\n",
    "connection2 = pool.get_connection()\n",
    "cursor2 = connection2.cursor()\n",
    "booking2 = ''' INSERT INTO Bookings (TableNo, GuestFirstName, GuestLastName, BookingSlot, EmployeeID)\n",
    "VALUES\n",
    "(5, 'Bald','Vin','19:00:00',6);'''\n",
    "\n",
    "cursor2.execute(booking2)"
   ]
  },
  {
   "cell_type": "code",
   "execution_count": 25,
   "metadata": {},
   "outputs": [],
   "source": [
    "connection2.commit()"
   ]
  },
  {
   "cell_type": "code",
   "execution_count": 30,
   "metadata": {},
   "outputs": [
    {
     "name": "stdout",
     "output_type": "stream",
     "text": [
      "Adding a new connection in the pool\n",
      "A new connection is added into the pool. \n",
      "\n"
     ]
    }
   ],
   "source": [
    "# adding a new connection for the 3rd guest with try-except block\n",
    "import mysql.connector as connector\n",
    "try:\n",
    "    connection3 = pool.get_connection()\n",
    "    print('The guest is connected')\n",
    "\n",
    "except:\n",
    "    print('Adding a new connection in the pool')\n",
    "\n",
    "    # create a new connection\n",
    "    connection=connector.connect(user= 'root', password= db_password)\n",
    "    # add connection into the pool\n",
    "    pool.add_connection(cnx=connection)\n",
    "    print('A new connection is added into the pool. \\n')\n",
    "    \n",
    "# connect 3rd guest\n",
    "cursor3 = connection3.cursor()\n",
    "booking3 = ''' INSERT INTO Bookings (TableNo, GuestFirstName, GuestLastName, BookingSlot, EmployeeID)\n",
    "VALUES\n",
    "(12, 'Jay','Kon','19:30:00',6);'''\n",
    "cursor3.execute(booking3)\n"
   ]
  },
  {
   "cell_type": "code",
   "execution_count": 31,
   "metadata": {},
   "outputs": [
    {
     "name": "stdout",
     "output_type": "stream",
     "text": [
      " A new connection is added in the \"Bookings\" table. \n"
     ]
    }
   ],
   "source": [
    "connection3.commit()\n",
    "print(''' A new connection is added in the \"Bookings\" table. ''')"
   ]
  },
  {
   "cell_type": "code",
   "execution_count": 32,
   "metadata": {},
   "outputs": [
    {
     "name": "stdout",
     "output_type": "stream",
     "text": [
      "Connection returned to the pool successfully.\n",
      "\n",
      "Connection can't be returned to the pool.\n",
      "Error message:  Failed adding connection; queue is full\n",
      "\n",
      "Connection can't be returned to the pool.\n",
      "Error message:  Failed adding connection; queue is full\n"
     ]
    }
   ],
   "source": [
    "# You can only return two connections back to the pool as the pool_size=2.\n",
    "#  Close all  connections and use try-except to print the pool error if the pool is already full.\n",
    "for connection in [connection1, connection2, connection3]:\n",
    "    try:\n",
    "        connection.close()\n",
    "        print('Connection returned to the pool successfully.')\n",
    "    except Error as er:\n",
    "        print(\"\\nConnection can't be returned to the pool.\")\n",
    "        print('Error message: ', er.msg)\n",
    "              "
   ]
  },
  {
   "cell_type": "markdown",
   "metadata": {},
   "source": [
    " create report on employee highest salary and number of bookings"
   ]
  },
  {
   "cell_type": "code",
   "execution_count": 53,
   "metadata": {},
   "outputs": [
    {
     "name": "stdout",
     "output_type": "stream",
     "text": [
      "Getting a connection from the pool.\n",
      "The object \"connection\" is created with a connection link from the pool_a\n",
      "Creating a cursor object to communicate with the database.\n",
      "The cursor object \"cursor\" is created.\n",
      "('EmployeeID', 'Name')\n",
      "(1, 'Mario Gollini')\n"
     ]
    }
   ],
   "source": [
    "# Get a connection from pool_a and create a cursor object to communicate with the database. \n",
    "print(\"Getting a connection from the pool.\")\n",
    "connection = pool.get_connection()\n",
    "print(\"\"\"The object \"connection\" is created with a connection link from the pool_a\"\"\")\n",
    "print(\"\"\"Creating a cursor object to communicate with the database.\"\"\")\n",
    "cursor=connection.cursor()\n",
    "print(\"\"\"The cursor object \"cursor\" is created.\"\"\")\n",
    "\n",
    "# The name and EmployeeID of the Little Lemon manager.\n",
    "cursor.execute(\"SELECT EmployeeID, Name FROM Employees WHERE Role = 'Manager';\")\n",
    "results = cursor.fetchall()\n",
    "cols = cursor.column_names\n",
    "print(cols)\n",
    "for result in results:\n",
    "    print(result)"
   ]
  },
  {
   "cell_type": "code",
   "execution_count": 49,
   "metadata": {},
   "outputs": [
    {
     "name": "stdout",
     "output_type": "stream",
     "text": [
      "('Name', 'EmployeeID')\n",
      "('Mario Gollini', 1)\n"
     ]
    }
   ],
   "source": [
    "# The name and role of the employee who receives the highest salary.\n",
    "cursor.execute(''' \n",
    "               SELECT Name, EmployeeID\n",
    "               FROM Employees\n",
    "               ORDER BY Annual_Salary DESC\n",
    "               LIMIT 1;\n",
    "               ''')\n",
    "results = cursor.fetchall()\n",
    "cols = cursor.column_names\n",
    "print(cols)\n",
    "for result in results:\n",
    "    print(result)"
   ]
  },
  {
   "cell_type": "code",
   "execution_count": 54,
   "metadata": {},
   "outputs": [
    {
     "name": "stdout",
     "output_type": "stream",
     "text": [
      "('n_Guests_between_18_20_hrs',)\n",
      "(8,)\n"
     ]
    }
   ],
   "source": [
    "# The number of guests booked between 18:00:00 and 20:00:00.\n",
    "cursor.execute('''\n",
    "               SELECT COUNT(BookingID) AS n_Guests_between_18_20_hrs \n",
    "               FROM Bookings\n",
    "               WHERE BookingSlot BETWEEN '18:00:00' AND '20:00:00'; ''')\n",
    "results = cursor.fetchall()\n",
    "cols = cursor.column_names\n",
    "print(cols)\n",
    "for result in results:\n",
    "    print(result)"
   ]
  },
  {
   "cell_type": "code",
   "execution_count": 55,
   "metadata": {},
   "outputs": [
    {
     "name": "stdout",
     "output_type": "stream",
     "text": [
      "('ID', 'Guest Name', 'Employee')\n",
      "(9, 'Jay Kon', 'Receptionist')\n",
      "(10, 'Jay Kon', 'Receptionist')\n",
      "(8, 'Bald Vin', 'Receptionist')\n",
      "(7, 'Anees Java', 'Receptionist')\n"
     ]
    }
   ],
   "source": [
    "# The full name and the BookingId of each guest waiting to be seated with \n",
    "# the receptionist in sorted order with respect to their BookingSlot.\n",
    "cursor.execute(''' \n",
    "               SELECT b.BookingID AS ID, CONCAT(b.GuestFirstName, ' ', b.GuestLastName) AS 'Guest Name',\n",
    "               e.Role AS Employee \n",
    "               FROM Bookings AS b\n",
    "               LEFT JOIN Employees AS e\n",
    "               ON b.EmployeeID = e.EmployeeID\n",
    "               WHERE e.Role = 'Receptionist' \n",
    "               ORDER BY BookingSlot DESC; ''')\n",
    "results = cursor.fetchall()\n",
    "cols = cursor.column_names\n",
    "print(cols)\n",
    "for result in results:\n",
    "    print(result)"
   ]
  },
  {
   "cell_type": "markdown",
   "metadata": {},
   "source": [
    "TASK 4 EXERCISE 3"
   ]
  },
  {
   "cell_type": "code",
   "execution_count": 60,
   "metadata": {},
   "outputs": [
    {
     "name": "stdout",
     "output_type": "stream",
     "text": [
      "Today's Sales Report\n",
      "\t Total_Sales : 243\n",
      "\t Average_Sales : 48.6000\n",
      "\t Minimum_Sales : 37\n",
      "\t Maximum_Sales : 86\n"
     ]
    }
   ],
   "source": [
    "# Create a stored procedure named BasicSalesReport. \n",
    "cursor.execute('DROP PROCEDURE IF EXISTS BasicSalesReport;')\n",
    "\n",
    "stored_procedure_basic_sales_report = ''' CREATE PROCEDURE BasicSalesReport()\n",
    "BEGIN\n",
    "SELECT \n",
    "SUM(BillAmount) AS Total_Sales,\n",
    "AVG(BillAmount) AS Average_Sales,\n",
    "MIN(BillAmount) AS Minimum_Sales,\n",
    "MAX(BillAmount) AS Maximum_Sales\n",
    "FROM Orders;\n",
    "END\n",
    "'''\n",
    "\n",
    "cursor.execute(stored_procedure_basic_sales_report)\n",
    "#  call the stored procedure\n",
    "cursor.callproc('BasicSalesReport')\n",
    "\n",
    "# retrieve records in dataset\n",
    "results = next(cursor.stored_results())\n",
    "dataset = results.fetchall()\n",
    "\n",
    "# retrieve the column names\n",
    "for column_id in cursor.stored_results():\n",
    "    columns = [column[0] for column in column_id.description]\n",
    "\n",
    "# print the column names and dataset\n",
    "print(\"Today's Sales Report\")\n",
    "for data in dataset:\n",
    "    print('\\t', columns[0], ':', data[0])\n",
    "    print('\\t', columns[1], ':', data[1])\n",
    "    print('\\t', columns[2], ':', data[2])\n",
    "    print('\\t', columns[3], ':', data[3])\n"
   ]
  },
  {
   "cell_type": "markdown",
   "metadata": {},
   "source": [
    "Task 5"
   ]
  },
  {
   "cell_type": "code",
   "execution_count": 69,
   "metadata": {},
   "outputs": [
    {
     "name": "stdout",
     "output_type": "stream",
     "text": [
      "\n",
      "BookingSlot 15:00:00\n",
      "\tGuest_Name Vanessa McCarthy\n",
      "\tAssigned to:  Giorgos Dioudis [Head Chef]\n",
      "\n",
      "BookingSlot 17:30:00\n",
      "\tGuest_Name Marcos Romero\n",
      "\tAssigned to:  Fatma Kaya [Assistant Chef]\n",
      "\n",
      "BookingSlot 18:00:00\n",
      "\tGuest_Name Anees Java\n",
      "\tAssigned to:  John Millar [Receptionist]\n"
     ]
    }
   ],
   "source": [
    "connection = pool.get_connection()\n",
    "cursor = connection.cursor(buffered=True)\n",
    "\n",
    "select_upcoming_bookings = ''' \n",
    "SELECT \n",
    "b.BookingSlot, \n",
    "CONCAT(b.GuestFirstName, ' ', b.GuestLastName) AS Guest_Name,\n",
    "e.Name AS Employee_Name,\n",
    "e.Role AS Role\n",
    "FROM Bookings AS b\n",
    "INNER JOIN Employees AS e\n",
    "ON b.EmployeeID = e.EmployeeID\n",
    "ORDER BY b.BookingSlot ASC;\n",
    "'''\n",
    "\n",
    "cursor.execute(select_upcoming_bookings)\n",
    "results = cursor.fetchmany(size=3)\n",
    "\n",
    "for result in results:\n",
    "    print('\\nBookingSlot', result[0])\n",
    "    print('\\tGuest_Name', result[1])\n",
    "    print('\\tAssigned to: ', result[2], '[{}]'.format(result[3]))\n",
    "\n"
   ]
  },
  {
   "cell_type": "code",
   "execution_count": 63,
   "metadata": {},
   "outputs": [],
   "source": [
    "connection.close()"
   ]
  }
 ],
 "metadata": {
  "kernelspec": {
   "display_name": "Python 3",
   "language": "python",
   "name": "python3"
  },
  "language_info": {
   "codemirror_mode": {
    "name": "ipython",
    "version": 3
   },
   "file_extension": ".py",
   "mimetype": "text/x-python",
   "name": "python",
   "nbconvert_exporter": "python",
   "pygments_lexer": "ipython3",
   "version": "3.9.6"
  }
 },
 "nbformat": 4,
 "nbformat_minor": 2
}
