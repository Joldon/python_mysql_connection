{
 "cells": [
  {
   "cell_type": "markdown",
   "metadata": {},
   "source": [
    "configure mysql/python connection and prepare the databse for use"
   ]
  },
  {
   "cell_type": "code",
   "execution_count": 1,
   "metadata": {},
   "outputs": [],
   "source": [
    "# import password from config file\n",
    "from config import db_password"
   ]
  },
  {
   "cell_type": "code",
   "execution_count": 2,
   "metadata": {},
   "outputs": [],
   "source": [
    "# import mysql.connector\n",
    "import mysql.connector as connector"
   ]
  },
  {
   "cell_type": "code",
   "execution_count": 5,
   "metadata": {},
   "outputs": [
    {
     "name": "stdout",
     "output_type": "stream",
     "text": [
      "Connection between MySQL and Python is established.\n",
      "\n"
     ]
    }
   ],
   "source": [
    "# connect MySQL with Python\n",
    "connection = connector.connect(user='root', password = db_password)\n",
    "print(\"Connection between MySQL and Python is established.\\n\")"
   ]
  },
  {
   "cell_type": "code",
   "execution_count": 6,
   "metadata": {},
   "outputs": [
    {
     "name": "stdout",
     "output_type": "stream",
     "text": [
      "Cursor is created to communicate with the MySQL using Python.\n",
      "\n"
     ]
    }
   ],
   "source": [
    "# create cursor\n",
    "cursor = connection.cursor()\n",
    "print(\"Cursor is created to communicate with the MySQL using Python.\\n\")"
   ]
  },
  {
   "cell_type": "code",
   "execution_count": 7,
   "metadata": {},
   "outputs": [
    {
     "name": "stdout",
     "output_type": "stream",
     "text": [
      "The database little_lemon is set for use.\n",
      "\n"
     ]
    }
   ],
   "source": [
    "# use the database\n",
    "cursor.execute('USE little_lemon_db;')\n",
    "print(\"The database little_lemon is set for use.\\n\")"
   ]
  },
  {
   "cell_type": "markdown",
   "metadata": {},
   "source": [
    "ESTABLISH POOL CONNECTION "
   ]
  },
  {
   "cell_type": "code",
   "execution_count": 8,
   "metadata": {},
   "outputs": [],
   "source": [
    "# import pool connection and Error from mysql.connector.pooling\n",
    "from mysql.connector.pooling import MySQLConnectionPool\n",
    "from mysql.connector import Error"
   ]
  },
  {
   "cell_type": "code",
   "execution_count": 9,
   "metadata": {},
   "outputs": [
    {
     "name": "stdout",
     "output_type": "stream",
     "text": [
      "The connection pool is created with a name:  pool_a\n",
      "The connection pool size is:  2\n"
     ]
    }
   ],
   "source": [
    "# configure dbconfig\n",
    "dbconfig = {\n",
    "    \"database\": \"little_lemon_db\",\n",
    "    \"user\": \"root\",\n",
    "    \"password\": db_password\n",
    "}\n",
    "\n",
    "try:\n",
    "    pool =MySQLConnectionPool(pool_name='pool_a', pool_size=2, **dbconfig)\n",
    "    print('The connection pool is created with a name: ', pool.pool_name)\n",
    "    print('The connection pool size is: ', pool.pool_size)\n",
    "\n",
    "except Error as er:\n",
    "    print('Error: ', er.errno)\n",
    "    print('Message: ', er.msg)"
   ]
  },
  {
   "cell_type": "code",
   "execution_count": 10,
   "metadata": {},
   "outputs": [
    {
     "name": "stdout",
     "output_type": "stream",
     "text": [
      "\n",
      "Getting connection from a pool ...\n",
      "\n",
      "'Connection1' object is:  <mysql.connector.pooling.PooledMySQLConnection object at 0x105eed040>\n"
     ]
    }
   ],
   "source": [
    "# get connection object from a pool\n",
    "print('\\nGetting connection from a pool ...\\n')\n",
    "connection1 = pool.get_connection()\n",
    "print(\"'Connection1' object is: \", connection1)"
   ]
  },
  {
   "cell_type": "code",
   "execution_count": 11,
   "metadata": {},
   "outputs": [],
   "source": [
    "# create cursor object from a connection\n",
    "cursor = connection1.cursor()"
   ]
  },
  {
   "cell_type": "markdown",
   "metadata": {},
   "source": [
    "CREATE PROCEDURES"
   ]
  },
  {
   "cell_type": "code",
   "execution_count": 12,
   "metadata": {},
   "outputs": [],
   "source": [
    "# CREATE PROCEDURE PeakHours\n",
    "cursor.execute('DROP PROCEDURE IF EXISTS PeakHours;')\n",
    "stored_procedure_peak_hours = ''' CREATE PROCEDURE PeakHours()\n",
    "BEGIN\n",
    "SELECT HOUR(BookingSlot) AS Booking_Hour, COUNT(HOUR(BookingSlot)) AS n_Bookings\n",
    "FROM Bookings\n",
    "GROUP BY HOUR(BookingSlot)\n",
    "ORDER BY n_Bookings DESC;\n",
    "END\n",
    "'''\n"
   ]
  },
  {
   "cell_type": "code",
   "execution_count": 13,
   "metadata": {},
   "outputs": [],
   "source": [
    "# execute the stored procedure\n",
    "cursor.execute(stored_procedure_peak_hours)"
   ]
  },
  {
   "cell_type": "code",
   "execution_count": 14,
   "metadata": {},
   "outputs": [
    {
     "name": "stdout",
     "output_type": "stream",
     "text": [
      "['Booking_Hour', 'n_Bookings']\n",
      "(19, 2)\n",
      "(15, 1)\n",
      "(17, 1)\n",
      "(18, 1)\n",
      "(20, 1)\n"
     ]
    }
   ],
   "source": [
    "# call the stored procedure\n",
    "cursor.callproc('PeakHours')\n",
    "\n",
    "# retrieve records in dataset\n",
    "results = next(cursor.stored_results())\n",
    "dataset = results.fetchall()\n",
    "\n",
    "# retrieve the column names\n",
    "for column_id in cursor.stored_results():\n",
    "    columns = [column[0] for column in column_id.description]\n",
    "\n",
    "# print the column names and dataset\n",
    "print(columns)\n",
    "\n",
    "#print the dataset\n",
    "for row in dataset:\n",
    "    print(row)\n"
   ]
  },
  {
   "cell_type": "markdown",
   "metadata": {},
   "source": [
    "stored procedure GuestStatus"
   ]
  },
  {
   "cell_type": "code",
   "execution_count": 18,
   "metadata": {},
   "outputs": [],
   "source": [
    "# create procedure GuestStatus\n",
    "cursor.execute('DROP PROCEDURE IF EXISTS GuestStatus;')\n",
    "stored_procedure_guest_status = ''' CREATE PROCEDURE GuestStatus()\n",
    "BEGIN \n",
    "SELECT CONCAT(b.GuestFirstName, ' ', b.GuestLastName) AS 'Guest Name', \n",
    "e.Role AS Employee,\n",
    "\n",
    "CASE \n",
    "WHEN e.Role IN ('Manager', 'Assistant Manager') THEN 'Ready to pay'\n",
    "WHEN e.Role = 'Head Chef' THEN 'Ready to serve'\n",
    "WHEN e.Role = 'Assistant Chef' THEN 'Preparing Order' \n",
    "WHEN e.Role = 'Head Waiter' THEN 'Order Served' \n",
    "ELSE 'Pending'\n",
    "END AS Status\n",
    "\n",
    "FROM Bookings AS b\n",
    "LEFT JOIN Employees AS e\n",
    "ON b.EmployeeID = e.EmployeeID;\n",
    "\n",
    "END\n",
    "\n",
    "'''"
   ]
  },
  {
   "cell_type": "code",
   "execution_count": 19,
   "metadata": {},
   "outputs": [],
   "source": [
    "# execute the stored procedure\n",
    "cursor.execute(stored_procedure_guest_status)\n"
   ]
  },
  {
   "cell_type": "code",
   "execution_count": 20,
   "metadata": {},
   "outputs": [
    {
     "name": "stdout",
     "output_type": "stream",
     "text": [
      "['Guest Name', 'Employee', 'Status']\n",
      "('Anna Iversen', 'Manager', 'Ready to pay')\n",
      "('Joakim Iversen', 'Manager', 'Ready to pay')\n",
      "('Vanessa McCarthy', 'Head Chef', 'Ready to serve')\n",
      "('Marcos Romero', 'Assistant Chef', 'Preparing Order')\n",
      "('Hiroki Yamane', 'Assistant Manager', 'Ready to pay')\n",
      "('Diana Pinto', 'Head Waiter', 'Order Served')\n"
     ]
    }
   ],
   "source": [
    "# call the stored procedure\n",
    "cursor.callproc('GuestStatus')\n",
    "\n",
    "# retrieve records in dataset\n",
    "results = next(cursor.stored_results())\n",
    "dataset = results.fetchall()\n",
    "\n",
    "# retrieve the column names\n",
    "for column_id in cursor.stored_results():\n",
    "    columns = [column[0] for column in column_id.description]\n",
    "\n",
    "# print the column names and dataset\n",
    "print(columns)\n",
    "\n",
    "#print the dataset\n",
    "for row in dataset:\n",
    "    print(row)\n",
    "\n",
    "# close connection\n",
    "connection1.close()\n"
   ]
  },
  {
   "cell_type": "markdown",
   "metadata": {},
   "source": [
    "create connection for pool_b"
   ]
  },
  {
   "cell_type": "code",
   "execution_count": 21,
   "metadata": {},
   "outputs": [
    {
     "name": "stdout",
     "output_type": "stream",
     "text": [
      "The connection pool is created with a name:  pool_b\n",
      "The connection pool size is:  2\n"
     ]
    }
   ],
   "source": [
    "# configure connection for pool_b using try-except block\n",
    "try:\n",
    "    pool = MySQLConnectionPool(pool_name='pool_b', pool_size=2, **dbconfig)\n",
    "    print('The connection pool is created with a name: ', pool.pool_name)\n",
    "    print('The connection pool size is: ', pool.pool_size)\n",
    "\n",
    "except Error as er:\n",
    "    print('Error: ', er.errno)\n",
    "    print('Message: ', er.msg)\n"
   ]
  }
 ],
 "metadata": {
  "kernelspec": {
   "display_name": "Python 3",
   "language": "python",
   "name": "python3"
  },
  "language_info": {
   "codemirror_mode": {
    "name": "ipython",
    "version": 3
   },
   "file_extension": ".py",
   "mimetype": "text/x-python",
   "name": "python",
   "nbconvert_exporter": "python",
   "pygments_lexer": "ipython3",
   "version": "3.9.6"
  }
 },
 "nbformat": 4,
 "nbformat_minor": 2
}
